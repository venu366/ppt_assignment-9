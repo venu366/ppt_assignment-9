{
 "cells": [
  {
   "cell_type": "code",
   "execution_count": null,
   "id": "29f9cfe6",
   "metadata": {},
   "outputs": [],
   "source": [
    "#1Q\n",
    "\n",
    "def powerof2(n):\n",
    " \n",
    "    # base cases\n",
    "    # '1' is the only odd number\n",
    "    # which is a power of 2(2^0)\n",
    "    if n == 1:\n",
    "        return True\n",
    " \n",
    "    # all other odd numbers are not powers of 2\n",
    "    elif n % 2 != 0 or n == 0:\n",
    "        return False\n",
    " \n",
    "    # recursive function call\n",
    "    return powerof2(n/2)"
   ]
  },
  {
   "cell_type": "code",
   "execution_count": null,
   "id": "1648279b",
   "metadata": {},
   "outputs": [],
   "source": [
    "#2Q\n",
    "\n",
    "# n natural numbers\n",
    "def recurSum(n):\n",
    "    if n <= 1:\n",
    "        return n\n",
    "    return n + recurSum(n - 1)\n",
    "  \n",
    "# Driver code\n",
    "n = 5\n",
    "print(recurSum(n))"
   ]
  },
  {
   "cell_type": "code",
   "execution_count": null,
   "id": "03bd0fab",
   "metadata": {},
   "outputs": [],
   "source": [
    "#3Q\n",
    "\n",
    "def factOfNum(n):\n",
    "    if (n==0):\n",
    "        return 1\n",
    "    return n * factOfNum(n-1)"
   ]
  },
  {
   "cell_type": "code",
   "execution_count": null,
   "id": "a7019dab",
   "metadata": {},
   "outputs": [],
   "source": [
    "#4Q\n",
    "\n",
    "    # If power is 0 then return 1\n",
    "    # if condition is true\n",
    "    # only then it will enter it,\n",
    "    # otherwise not\n",
    "    if P == 0:\n",
    "        return 1\n",
    " \n",
    "    # Recurrence relation\n",
    "    return (N*power(N, P-1))\n",
    " "
   ]
  },
  {
   "cell_type": "code",
   "execution_count": null,
   "id": "f87ad745",
   "metadata": {},
   "outputs": [],
   "source": [
    "#5Q\n",
    "\n",
    "def findMaxRec(A, n):\n",
    " \n",
    "    # if n = 0 means whole array\n",
    "    # has been traversed\n",
    "    if (n == 1):\n",
    "        return A[0]\n",
    "    return max(A[n - 1], findMaxRec(A, n - 1))\n",
    " "
   ]
  },
  {
   "cell_type": "code",
   "execution_count": null,
   "id": "1277377e",
   "metadata": {},
   "outputs": [],
   "source": [
    "#6Q\n",
    "\n",
    "def Nth_of_AP(a, d, N) :\n",
    " \n",
    "    # using formula to find the\n",
    "    # Nth term t(n) = a(1) + (n-1)*d\n",
    "    return (a + (N - 1) * d)\n",
    "      \n",
    "  \n",
    " # Driver code\n",
    "a = 2  # starting number\n",
    "d = 1  # Common difference\n",
    "N = 5  # N th term to be find\n",
    "  \n",
    "# Display the output\n",
    "print( \"The \", N ,\"th term of the series is : \",\n",
    "       Nth_of_AP(a, d, N))"
   ]
  },
  {
   "cell_type": "code",
   "execution_count": null,
   "id": "88b2882a",
   "metadata": {},
   "outputs": [],
   "source": [
    "#7Q\n",
    "\n",
    "def permute(s, answer):\n",
    "    if (len(s) == 0):\n",
    "        print(answer, end=\"  \")\n",
    "        return\n",
    " \n",
    "    for i in range(len(s)):\n",
    "        ch = s[i]\n",
    "        left_substr = s[0:i]\n",
    "        right_substr = s[i + 1:]\n",
    "        rest = left_substr + right_substr\n",
    "        permute(rest, answer + ch)"
   ]
  },
  {
   "cell_type": "code",
   "execution_count": null,
   "id": "edb2873b",
   "metadata": {},
   "outputs": [],
   "source": [
    "#8Q\n",
    "\n",
    "def multiply( a , n ):\n",
    "     \n",
    "    # Termination condition\n",
    "    if n == 0:\n",
    "        return(a[n])\n",
    "    else:\n",
    "        return (a[n] * multiply(a, n - 1))"
   ]
  }
 ],
 "metadata": {
  "kernelspec": {
   "display_name": "Python 3 (ipykernel)",
   "language": "python",
   "name": "python3"
  },
  "language_info": {
   "codemirror_mode": {
    "name": "ipython",
    "version": 3
   },
   "file_extension": ".py",
   "mimetype": "text/x-python",
   "name": "python",
   "nbconvert_exporter": "python",
   "pygments_lexer": "ipython3",
   "version": "3.9.12"
  }
 },
 "nbformat": 4,
 "nbformat_minor": 5
}
